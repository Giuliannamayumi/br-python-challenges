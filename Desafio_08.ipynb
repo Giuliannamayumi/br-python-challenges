{
  "nbformat": 4,
  "nbformat_minor": 0,
  "metadata": {
    "anaconda-cloud": {},
    "kernelspec": {
      "display_name": "Python 3",
      "language": "python",
      "name": "python3"
    },
    "language_info": {
      "codemirror_mode": {
        "name": "ipython",
        "version": 3
      },
      "file_extension": ".py",
      "mimetype": "text/x-python",
      "name": "python",
      "nbconvert_exporter": "python",
      "pygments_lexer": "ipython3",
      "version": "3.6.5"
    },
    "colab": {
      "name": "Desafio 8.ipynb",
      "provenance": [],
      "include_colab_link": true
    }
  },
  "cells": [
    {
      "cell_type": "markdown",
      "metadata": {
        "id": "view-in-github",
        "colab_type": "text"
      },
      "source": [
        "<a href=\"https://colab.research.google.com/github/Giuliannamayumi/br-python-challenges/blob/master/Desafio_08.ipynb\" target=\"_parent\"><img src=\"https://colab.research.google.com/assets/colab-badge.svg\" alt=\"Open In Colab\"/></a>"
      ]
    },
    {
      "cell_type": "markdown",
      "metadata": {
        "id": "o3tkeMDNf6Jo",
        "colab_type": "text"
      },
      "source": [
        "### Desafio 8\n",
        "\n",
        "Escreva um script Python para encontrar as 10 palavras mais longas em um arquivo.\n",
        "\n",
        "O arquivo TXT está localizado na mesma pasta do projeto (texto.txt)."
      ]
    },
    {
      "cell_type": "code",
      "metadata": {
        "id": "EknxjSG0f6Jo",
        "colab_type": "code",
        "colab": {}
      },
      "source": [
        "# Seu código"
      ],
      "execution_count": null,
      "outputs": []
    },
    {
      "cell_type": "code",
      "metadata": {
        "id": "ZYbqEWBG5nKx",
        "colab_type": "code",
        "colab": {
          "base_uri": "https://localhost:8080/",
          "height": 204
        },
        "outputId": "7efff97a-a527-4aad-910d-511d9fc93284"
      },
      "source": [
        "!wget https://raw.githubusercontent.com/awarischool/br-python-challenges/master/texto.txt"
      ],
      "execution_count": 1,
      "outputs": [
        {
          "output_type": "stream",
          "text": [
            "--2020-09-01 20:27:46--  https://raw.githubusercontent.com/awarischool/br-python-challenges/master/texto.txt\n",
            "Resolving raw.githubusercontent.com (raw.githubusercontent.com)... 151.101.0.133, 151.101.64.133, 151.101.128.133, ...\n",
            "Connecting to raw.githubusercontent.com (raw.githubusercontent.com)|151.101.0.133|:443... connected.\n",
            "HTTP request sent, awaiting response... 200 OK\n",
            "Length: 766 [text/plain]\n",
            "Saving to: ‘texto.txt’\n",
            "\n",
            "texto.txt           100%[===================>]     766  --.-KB/s    in 0s      \n",
            "\n",
            "2020-09-01 20:27:46 (37.5 MB/s) - ‘texto.txt’ saved [766/766]\n",
            "\n"
          ],
          "name": "stdout"
        }
      ]
    },
    {
      "cell_type": "code",
      "metadata": {
        "id": "Y1DlCNgaWnDW",
        "colab_type": "code",
        "colab": {}
      },
      "source": [
        "with open('texto.txt', 'r')as txt:\n",
        "  texto = txt.read().replace('.',' ').replace('?',' ').replace(',',' ').split()"
      ],
      "execution_count": 11,
      "outputs": []
    },
    {
      "cell_type": "code",
      "metadata": {
        "id": "qTLt91mVaoGk",
        "colab_type": "code",
        "colab": {
          "base_uri": "https://localhost:8080/",
          "height": 1000
        },
        "outputId": "73225b34-5f71-41ae-a88b-dc9785957192"
      },
      "source": [
        "texto"
      ],
      "execution_count": 12,
      "outputs": [
        {
          "output_type": "execute_result",
          "data": {
            "text/plain": [
              "['What',\n",
              " 'is',\n",
              " 'Python',\n",
              " 'language',\n",
              " 'Python',\n",
              " 'is',\n",
              " 'a',\n",
              " 'widely',\n",
              " 'used',\n",
              " 'high-level',\n",
              " 'general-purpose',\n",
              " 'interpreted',\n",
              " 'dynamic',\n",
              " 'programming',\n",
              " 'language',\n",
              " 'Its',\n",
              " 'design',\n",
              " 'philosophy',\n",
              " 'emphasizes',\n",
              " 'code',\n",
              " 'readability',\n",
              " 'and',\n",
              " 'its',\n",
              " 'syntax',\n",
              " 'allows',\n",
              " 'programmers',\n",
              " 'to',\n",
              " 'express',\n",
              " 'concepts',\n",
              " 'in',\n",
              " 'fewer',\n",
              " 'lines',\n",
              " 'of',\n",
              " 'code',\n",
              " 'than',\n",
              " 'possible',\n",
              " 'in',\n",
              " 'languages',\n",
              " 'such',\n",
              " 'as',\n",
              " 'C++',\n",
              " 'or',\n",
              " 'Java',\n",
              " 'Python',\n",
              " 'supports',\n",
              " 'multiple',\n",
              " 'programming',\n",
              " 'paradigms',\n",
              " 'including',\n",
              " 'object-oriented',\n",
              " 'imperative',\n",
              " 'and',\n",
              " 'functional',\n",
              " 'programming',\n",
              " 'or',\n",
              " 'procedural',\n",
              " 'styles',\n",
              " 'It',\n",
              " 'features',\n",
              " 'a',\n",
              " 'dynamic',\n",
              " 'type',\n",
              " 'system',\n",
              " 'and',\n",
              " 'automatic',\n",
              " 'memory',\n",
              " 'management',\n",
              " 'and',\n",
              " 'has',\n",
              " 'a',\n",
              " 'large',\n",
              " 'and',\n",
              " 'comprehensive',\n",
              " 'standard',\n",
              " 'library',\n",
              " 'The',\n",
              " 'best',\n",
              " 'way',\n",
              " 'we',\n",
              " 'learn',\n",
              " 'anything',\n",
              " 'is',\n",
              " 'by',\n",
              " 'practice',\n",
              " 'and',\n",
              " 'exercise',\n",
              " 'questions',\n",
              " 'We',\n",
              " 'have',\n",
              " 'started',\n",
              " 'this',\n",
              " 'section',\n",
              " 'for',\n",
              " 'those',\n",
              " '(beginner',\n",
              " 'to',\n",
              " 'intermediate)',\n",
              " 'who',\n",
              " 'are',\n",
              " 'familiar',\n",
              " 'with',\n",
              " 'Python']"
            ]
          },
          "metadata": {
            "tags": []
          },
          "execution_count": 12
        }
      ]
    },
    {
      "cell_type": "code",
      "metadata": {
        "id": "tOfZvV1xc2Gz",
        "colab_type": "code",
        "colab": {
          "base_uri": "https://localhost:8080/",
          "height": 187
        },
        "outputId": "2d7322b2-f59a-44fa-eb13-bcf541f27538"
      },
      "source": [
        "lista_ordenada= sorted(texto,key=len,reverse=True)[:10]\n",
        "lista_ordenada"
      ],
      "execution_count": 14,
      "outputs": [
        {
          "output_type": "execute_result",
          "data": {
            "text/plain": [
              "['general-purpose',\n",
              " 'object-oriented',\n",
              " 'comprehensive',\n",
              " 'intermediate)',\n",
              " 'interpreted',\n",
              " 'programming',\n",
              " 'readability',\n",
              " 'programmers',\n",
              " 'programming',\n",
              " 'programming']"
            ]
          },
          "metadata": {
            "tags": []
          },
          "execution_count": 14
        }
      ]
    },
    {
      "cell_type": "code",
      "metadata": {
        "id": "AZkXwJ1ReI7I",
        "colab_type": "code",
        "colab": {}
      },
      "source": [
        ""
      ],
      "execution_count": null,
      "outputs": []
    },
    {
      "cell_type": "code",
      "metadata": {
        "id": "L5TGED1Adl2L",
        "colab_type": "code",
        "colab": {}
      },
      "source": [
        ""
      ],
      "execution_count": null,
      "outputs": []
    }
  ]
}